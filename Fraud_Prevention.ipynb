{
  "nbformat": 4,
  "nbformat_minor": 0,
  "metadata": {
    "colab": {
      "provenance": [],
      "authorship_tag": "ABX9TyNeq/MMLdqCX9h5/a6cVJ2l",
      "include_colab_link": true
    },
    "kernelspec": {
      "name": "python3",
      "display_name": "Python 3"
    },
    "language_info": {
      "name": "python"
    }
  },
  "cells": [
    {
      "cell_type": "markdown",
      "metadata": {
        "id": "view-in-github",
        "colab_type": "text"
      },
      "source": [
        "<a href=\"https://colab.research.google.com/github/bhavya714/FinWiseAI/blob/main/Fraud_Prevention.ipynb\" target=\"_parent\"><img src=\"https://colab.research.google.com/assets/colab-badge.svg\" alt=\"Open In Colab\"/></a>"
      ]
    },
    {
      "cell_type": "code",
      "execution_count": 6,
      "metadata": {
        "colab": {
          "base_uri": "https://localhost:8080/"
        },
        "id": "elNODbprQgNY",
        "outputId": "b5e549d3-e981-4b12-b375-e21a58df765f"
      },
      "outputs": [
        {
          "output_type": "stream",
          "name": "stdout",
          "text": [
            "Requirement already satisfied: streamlit in /usr/local/lib/python3.12/dist-packages (1.49.1)\n",
            "Requirement already satisfied: pyngrok in /usr/local/lib/python3.12/dist-packages (7.3.0)\n",
            "Requirement already satisfied: altair!=5.4.0,!=5.4.1,<6,>=4.0 in /usr/local/lib/python3.12/dist-packages (from streamlit) (5.5.0)\n",
            "Requirement already satisfied: blinker<2,>=1.5.0 in /usr/local/lib/python3.12/dist-packages (from streamlit) (1.9.0)\n",
            "Requirement already satisfied: cachetools<7,>=4.0 in /usr/local/lib/python3.12/dist-packages (from streamlit) (5.5.2)\n",
            "Requirement already satisfied: click<9,>=7.0 in /usr/local/lib/python3.12/dist-packages (from streamlit) (8.2.1)\n",
            "Requirement already satisfied: numpy<3,>=1.23 in /usr/local/lib/python3.12/dist-packages (from streamlit) (2.0.2)\n",
            "Requirement already satisfied: packaging<26,>=20 in /usr/local/lib/python3.12/dist-packages (from streamlit) (25.0)\n",
            "Requirement already satisfied: pandas<3,>=1.4.0 in /usr/local/lib/python3.12/dist-packages (from streamlit) (2.2.2)\n",
            "Requirement already satisfied: pillow<12,>=7.1.0 in /usr/local/lib/python3.12/dist-packages (from streamlit) (11.3.0)\n",
            "Requirement already satisfied: protobuf<7,>=3.20 in /usr/local/lib/python3.12/dist-packages (from streamlit) (5.29.5)\n",
            "Requirement already satisfied: pyarrow>=7.0 in /usr/local/lib/python3.12/dist-packages (from streamlit) (18.1.0)\n",
            "Requirement already satisfied: requests<3,>=2.27 in /usr/local/lib/python3.12/dist-packages (from streamlit) (2.32.4)\n",
            "Requirement already satisfied: tenacity<10,>=8.1.0 in /usr/local/lib/python3.12/dist-packages (from streamlit) (8.5.0)\n",
            "Requirement already satisfied: toml<2,>=0.10.1 in /usr/local/lib/python3.12/dist-packages (from streamlit) (0.10.2)\n",
            "Requirement already satisfied: typing-extensions<5,>=4.4.0 in /usr/local/lib/python3.12/dist-packages (from streamlit) (4.15.0)\n",
            "Requirement already satisfied: watchdog<7,>=2.1.5 in /usr/local/lib/python3.12/dist-packages (from streamlit) (6.0.0)\n",
            "Requirement already satisfied: gitpython!=3.1.19,<4,>=3.0.7 in /usr/local/lib/python3.12/dist-packages (from streamlit) (3.1.45)\n",
            "Requirement already satisfied: pydeck<1,>=0.8.0b4 in /usr/local/lib/python3.12/dist-packages (from streamlit) (0.9.1)\n",
            "Requirement already satisfied: tornado!=6.5.0,<7,>=6.0.3 in /usr/local/lib/python3.12/dist-packages (from streamlit) (6.4.2)\n",
            "Requirement already satisfied: PyYAML>=5.1 in /usr/local/lib/python3.12/dist-packages (from pyngrok) (6.0.2)\n",
            "Requirement already satisfied: jinja2 in /usr/local/lib/python3.12/dist-packages (from altair!=5.4.0,!=5.4.1,<6,>=4.0->streamlit) (3.1.6)\n",
            "Requirement already satisfied: jsonschema>=3.0 in /usr/local/lib/python3.12/dist-packages (from altair!=5.4.0,!=5.4.1,<6,>=4.0->streamlit) (4.25.1)\n",
            "Requirement already satisfied: narwhals>=1.14.2 in /usr/local/lib/python3.12/dist-packages (from altair!=5.4.0,!=5.4.1,<6,>=4.0->streamlit) (2.3.0)\n",
            "Requirement already satisfied: gitdb<5,>=4.0.1 in /usr/local/lib/python3.12/dist-packages (from gitpython!=3.1.19,<4,>=3.0.7->streamlit) (4.0.12)\n",
            "Requirement already satisfied: python-dateutil>=2.8.2 in /usr/local/lib/python3.12/dist-packages (from pandas<3,>=1.4.0->streamlit) (2.9.0.post0)\n",
            "Requirement already satisfied: pytz>=2020.1 in /usr/local/lib/python3.12/dist-packages (from pandas<3,>=1.4.0->streamlit) (2025.2)\n",
            "Requirement already satisfied: tzdata>=2022.7 in /usr/local/lib/python3.12/dist-packages (from pandas<3,>=1.4.0->streamlit) (2025.2)\n",
            "Requirement already satisfied: charset_normalizer<4,>=2 in /usr/local/lib/python3.12/dist-packages (from requests<3,>=2.27->streamlit) (3.4.3)\n",
            "Requirement already satisfied: idna<4,>=2.5 in /usr/local/lib/python3.12/dist-packages (from requests<3,>=2.27->streamlit) (3.10)\n",
            "Requirement already satisfied: urllib3<3,>=1.21.1 in /usr/local/lib/python3.12/dist-packages (from requests<3,>=2.27->streamlit) (2.5.0)\n",
            "Requirement already satisfied: certifi>=2017.4.17 in /usr/local/lib/python3.12/dist-packages (from requests<3,>=2.27->streamlit) (2025.8.3)\n",
            "Requirement already satisfied: smmap<6,>=3.0.1 in /usr/local/lib/python3.12/dist-packages (from gitdb<5,>=4.0.1->gitpython!=3.1.19,<4,>=3.0.7->streamlit) (5.0.2)\n",
            "Requirement already satisfied: MarkupSafe>=2.0 in /usr/local/lib/python3.12/dist-packages (from jinja2->altair!=5.4.0,!=5.4.1,<6,>=4.0->streamlit) (3.0.2)\n",
            "Requirement already satisfied: attrs>=22.2.0 in /usr/local/lib/python3.12/dist-packages (from jsonschema>=3.0->altair!=5.4.0,!=5.4.1,<6,>=4.0->streamlit) (25.3.0)\n",
            "Requirement already satisfied: jsonschema-specifications>=2023.03.6 in /usr/local/lib/python3.12/dist-packages (from jsonschema>=3.0->altair!=5.4.0,!=5.4.1,<6,>=4.0->streamlit) (2025.4.1)\n",
            "Requirement already satisfied: referencing>=0.28.4 in /usr/local/lib/python3.12/dist-packages (from jsonschema>=3.0->altair!=5.4.0,!=5.4.1,<6,>=4.0->streamlit) (0.36.2)\n",
            "Requirement already satisfied: rpds-py>=0.7.1 in /usr/local/lib/python3.12/dist-packages (from jsonschema>=3.0->altair!=5.4.0,!=5.4.1,<6,>=4.0->streamlit) (0.27.1)\n",
            "Requirement already satisfied: six>=1.5 in /usr/local/lib/python3.12/dist-packages (from python-dateutil>=2.8.2->pandas<3,>=1.4.0->streamlit) (1.17.0)\n"
          ]
        }
      ],
      "source": [
        "!pip install streamlit pyngrok\n",
        "\n"
      ]
    },
    {
      "cell_type": "code",
      "source": [
        "from pyngrok import ngrok\n",
        "\n",
        "# paste your ngrok token inside quotes\n",
        "ngrok.set_auth_token(\"32HeA2cFR8xjtLnWxBmkR6LVuWX_3QVAYxoi8YWzPA8pU6wNu\")\n"
      ],
      "metadata": {
        "id": "v_lE5qQcQ7xh"
      },
      "execution_count": 7,
      "outputs": []
    },
    {
      "cell_type": "code",
      "source": [
        "%%writefile app.py\n",
        "import streamlit as st\n",
        "import pandas as pd\n",
        "import numpy as np\n",
        "from sklearn.feature_extraction.text import TfidfVectorizer\n",
        "from sklearn.ensemble import IsolationForest\n",
        "from sklearn.metrics.pairwise import cosine_similarity\n",
        "import matplotlib.pyplot as plt\n",
        "\n",
        "st.set_page_config(layout=\"wide\", page_title=\"TradeShield — SEBI Fraud Prevention MVP\")\n",
        "\n",
        "# ---------- Helper / Mock Data ----------\n",
        "MOCK_ADVISOR_DB = pd.DataFrame([\n",
        "    {\"advisor_id\": \"AD-1001\", \"name\": \"Alpha Invest LLP\", \"registered\": True},\n",
        "    {\"advisor_id\": \"AD-1002\", \"name\": \"GreenEdge Advisors\", \"registered\": True},\n",
        "    {\"advisor_id\": \"AD-9001\", \"name\": \"QuickRich Promos\", \"registered\": False},\n",
        "    {\"advisor_id\": \"AD-9002\", \"name\": \"InstantAllot Pvt Ltd\", \"registered\": False},\n",
        "])\n",
        "\n",
        "# Synthetic \"historical filings / announcements\" for similarity checks\n",
        "HISTORICAL_ANNOUNCEMENTS = [\n",
        "    \"Company reports quarterly revenue growth of 5% driven by core operations and steady margins.\",\n",
        "    \"Board approves dividend of INR 2 per share. No material changes to management or business model.\",\n",
        "    \"Company announces strategic partnership with logistics provider to expand distribution channels.\",\n",
        "    \"Company issues profit warning due to one-time exceptional items affecting FY results.\",\n",
        "    \"Company files share buyback of up to 2% to improve capital efficiency.\"\n",
        "]\n",
        "\n",
        "RED_FLAG_KEYWORDS = [\n",
        "    \"guaranteed\", \"100% return\", \"insider\", \"firm allotment\", \"get rich\", \"quick gains\",\n",
        "    \"pump\", \"moon\", \"payout\", \"no risk\", \"private offering\", \"unlisted\", \"whatsapp\", \"telegram\"\n",
        "]\n",
        "\n",
        "# ---------- App UI ----------\n",
        "st.title(\"📡 TradeShield — SEBI Fraud Prevention Prototype\")\n",
        "st.markdown(\"\"\"\n",
        "**Modules:** Advisor Verifier · Social Tip Analyzer · Announcement Verifier\n",
        "This is an MVP to demonstrate AI + rule-based checks to flag likely fraudulent activity (mock data).\n",
        "\"\"\")\n",
        "\n",
        "# Layout: three columns for modules\n",
        "col1, col2, col3 = st.columns(3)\n",
        "\n",
        "# ---------------- Advisor Verifier ----------------\n",
        "with col1:\n",
        "    st.header(\"🔎 Advisor Verifier\")\n",
        "    st.write(\"Check advisor name or ID against a mock regulatory database.\")\n",
        "    q = st.text_input(\"Enter Advisor Name or ID (e.g., AD-1001 or QuickRich Promos)\")\n",
        "    if st.button(\"Verify Advisor\"):\n",
        "        if not q:\n",
        "            st.info(\"Enter an advisor name or ID to check.\")\n",
        "        else:\n",
        "            # simple matching\n",
        "            found = MOCK_ADVISOR_DB[\n",
        "                MOCK_ADVISOR_DB.apply(lambda r: q.lower() in str(r[\"advisor_id\"]).lower() or q.lower() in r[\"name\"].lower(), axis=1)\n",
        "            ]\n",
        "            if found.empty:\n",
        "                st.error(\"❌ Advisor NOT found in registry. **Flag: Unregistered / suspicious**\")\n",
        "                st.write(\"Recommended action: Verify documents, ask for registration number, check SEBI website.\")\n",
        "            else:\n",
        "                r = found.iloc[0]\n",
        "                if r[\"registered\"]:\n",
        "                    st.success(f\"✅ Registered: {r['name']} ({r['advisor_id']})\")\n",
        "                else:\n",
        "                    st.warning(f\"⚠️ Found but NOT registered: {r['name']} ({r['advisor_id']}). Investigate further.\")\n",
        "\n",
        "    st.markdown(\"---\")\n",
        "    st.write(\"**Registry (mock sample):**\")\n",
        "    st.table(MOCK_ADVISOR_DB)\n",
        "\n",
        "# ---------------- Social Tip Analyzer ----------------\n",
        "with col2:\n",
        "    st.header(\"💬 Social Tip Analyzer\")\n",
        "    st.write(\"Paste social posts (one per line) or upload a CSV with a `text` column. The app flags posts with pump/scam indicators.\")\n",
        "    uploaded = st.file_uploader(\"Upload CSV of social posts (optional)\", type=[\"csv\"], key=\"posts\")\n",
        "    raw_text = st.text_area(\"Or paste social posts (one per line):\", height=140)\n",
        "\n",
        "    posts_df = None\n",
        "    if uploaded is not None:\n",
        "        try:\n",
        "            posts_df = pd.read_csv(uploaded)\n",
        "            if \"text\" not in posts_df.columns:\n",
        "                st.error(\"CSV must have a `text` column. You can also paste posts manually.\")\n",
        "                posts_df = None\n",
        "        except Exception as e:\n",
        "            st.error(\"Couldn't read CSV: \" + str(e))\n",
        "            posts_df = None\n",
        "\n",
        "    if posts_df is None and raw_text.strip():\n",
        "        posts = [line.strip() for line in raw_text.strip().splitlines() if line.strip()]\n",
        "        posts_df = pd.DataFrame({\"text\": posts})\n",
        "\n",
        "    if posts_df is not None:\n",
        "        def score_post(text):\n",
        "            txt = str(text).lower()\n",
        "            # rule-based keyword score\n",
        "            kw_count = sum(1 for k in RED_FLAG_KEYWORDS if k in txt)\n",
        "            # length / hype heuristic\n",
        "            hype = 1 if (\"guarantee\" in txt or \"guaranteed\" in txt or \"firm allotment\" in txt) else 0\n",
        "            return kw_count + hype\n",
        "\n",
        "        posts_df[\"risk_score\"] = posts_df[\"text\"].apply(score_post)\n",
        "        posts_df[\"flag\"] = posts_df[\"risk_score\"].apply(lambda s: \"High\" if s>=2 else (\"Medium\" if s==1 else \"Low\"))\n",
        "        st.write(\"### Analyzed posts\")\n",
        "        st.dataframe(posts_df)\n",
        "\n",
        "        # Show top high risk posts\n",
        "        st.write(\"### High / Medium risk posts\")\n",
        "        st.dataframe(posts_df[posts_df[\"flag\"]!=\"Low\"].reset_index(drop=True))\n",
        "\n",
        "        # OPTIONAL: simulate linkage to market activity (synthetic)\n",
        "        if st.checkbox(\"Show simulated market activity linked to posts\"):\n",
        "            # create time series with a spike for flagged posts\n",
        "            t = pd.date_range(end=pd.Timestamp.now(), periods=100, freq=\"T\")\n",
        "            vol = np.random.normal(1000, 100, size=len(t))\n",
        "            # if any high risk posts, inject a spike in the middle\n",
        "            if (posts_df[\"flag\"]==\"High\").any():\n",
        "                idx = len(t)//2\n",
        "                vol[idx:idx+3] += 4000\n",
        "            fig, ax = plt.subplots()\n",
        "            ax.plot(t, vol)\n",
        "            ax.set_title(\"Simulated Market Volume (spike may indicate pump activity)\")\n",
        "            ax.set_ylabel(\"Volume\")\n",
        "            st.pyplot(fig)\n",
        "\n",
        "# ---------------- Announcement Verifier ----------------\n",
        "with col3:\n",
        "    st.header(\"📢 Announcement Verifier\")\n",
        "    st.write(\"Paste a company's announcement. The tool compares it to historical filings (mock) and applies rule-based checks.\")\n",
        "    ann = st.text_area(\"Paste company announcement here:\", height=180)\n",
        "    if st.button(\"Verify Announcement\"):\n",
        "        if not ann.strip():\n",
        "            st.info(\"Paste an announcement to verify.\")\n",
        "        else:\n",
        "            # TF-IDF similarity vs historical announcements\n",
        "            docs = HISTORICAL_ANNOUNCEMENTS + [ann]\n",
        "            vec = TfidfVectorizer(stop_words='english').fit_transform(docs)\n",
        "            sim = cosine_similarity(vec[-1], vec[:-1]).flatten()\n",
        "            max_sim = sim.max()\n",
        "            avg_sim = sim.mean()\n",
        "            # rule-based red-flag checks\n",
        "            text_low = ann.lower()\n",
        "            rf_flags = [k for k in RED_FLAG_KEYWORDS if k in text_low]\n",
        "            credibility = 1.0\n",
        "            if max_sim < 0.15:  # very different from historical records\n",
        "                credibility -= 0.5\n",
        "            if len(rf_flags) > 0:\n",
        "                credibility -= 0.3\n",
        "            credibility = max(0.0, credibility)\n",
        "\n",
        "            st.write(f\"**Credibility score (0-1)**: {credibility:.2f}\")\n",
        "            st.write(f\"Max similarity to past filings: {max_sim:.2f} | Average similarity: {avg_sim:.2f}\")\n",
        "            if rf_flags:\n",
        "                st.warning(\"Detected suspicious keywords: \" + \", \".join(rf_flags))\n",
        "            if credibility < 0.6:\n",
        "                st.error(\"❌ Low credibility — treat as suspicious and verify with official exchange filings / company contacts.\")\n",
        "            else:\n",
        "                st.success(\"✅ Announcement is reasonably consistent with historical filings (still verify with official sources).\")\n",
        "\n",
        "    st.markdown(\"---\")\n",
        "    st.write(\"**Example historical filings (mock)**\")\n",
        "    for i, h in enumerate(HISTORICAL_ANNOUNCEMENTS, 1):\n",
        "        st.write(f\"{i}. {h[:140]}...\")\n",
        "\n",
        "# ---------- Footer / Export ----------\n",
        "st.markdown(\"---\")\n",
        "st.write(\"**How to demo:** show Advisor Verifier (try unregistered name), paste social posts with pump language, paste a suspicious announcement with 'firm allotment' or 'guaranteed returns'.\")\n"
      ],
      "metadata": {
        "colab": {
          "base_uri": "https://localhost:8080/"
        },
        "id": "Z15S15cjTuQY",
        "outputId": "b5deb39d-984b-44ef-b2b4-8d4d32514c9a"
      },
      "execution_count": 8,
      "outputs": [
        {
          "output_type": "stream",
          "name": "stdout",
          "text": [
            "Overwriting app.py\n"
          ]
        }
      ]
    },
    {
      "cell_type": "code",
      "source": [
        "!streamlit run app.py &>/dev/null&\n"
      ],
      "metadata": {
        "id": "Y6hT80tKRf_5"
      },
      "execution_count": 9,
      "outputs": []
    },
    {
      "cell_type": "code",
      "source": [
        "public_url = ngrok.connect(8501)\n",
        "print(\"🎉 Your Streamlit app is live here:\", public_url)\n"
      ],
      "metadata": {
        "colab": {
          "base_uri": "https://localhost:8080/"
        },
        "id": "-jiTPtcyRiag",
        "outputId": "ca970146-2165-4a30-e9f9-8aa31066cc05"
      },
      "execution_count": 10,
      "outputs": [
        {
          "output_type": "stream",
          "name": "stdout",
          "text": [
            "🎉 Your Streamlit app is live here: NgrokTunnel: \"https://2b6d213209d2.ngrok-free.app\" -> \"http://localhost:8501\"\n"
          ]
        }
      ]
    }
  ]
}